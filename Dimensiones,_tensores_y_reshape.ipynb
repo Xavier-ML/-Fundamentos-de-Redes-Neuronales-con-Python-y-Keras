{
  "nbformat": 4,
  "nbformat_minor": 0,
  "metadata": {
    "kernelspec": {
      "display_name": "Python 3",
      "language": "python",
      "name": "python3"
    },
    "language_info": {
      "codemirror_mode": {
        "name": "ipython",
        "version": 3
      },
      "file_extension": ".py",
      "mimetype": "text/x-python",
      "name": "python",
      "nbconvert_exporter": "python",
      "pygments_lexer": "ipython3",
      "version": "3.7.7"
    },
    "colab": {
      "provenance": [],
      "include_colab_link": true
    }
  },
  "cells": [
    {
      "cell_type": "markdown",
      "metadata": {
        "id": "view-in-github",
        "colab_type": "text"
      },
      "source": [
        "<a href=\"https://colab.research.google.com/github/Xavier-ML/-Fundamentos-de-Redes-Neuronales-con-Python-y-Keras/blob/main/Dimensiones%2C_tensores_y_reshape.ipynb\" target=\"_parent\"><img src=\"https://colab.research.google.com/assets/colab-badge.svg\" alt=\"Open In Colab\"/></a>"
      ]
    },
    {
      "cell_type": "code",
      "metadata": {
        "id": "lLJOjzBUkkbt"
      },
      "source": [
        "import numpy as np"
      ],
      "execution_count": 1,
      "outputs": []
    },
    {
      "cell_type": "markdown",
      "metadata": {
        "id": "K-kblJgEkkb5"
      },
      "source": [
        "### Scalar"
      ]
    },
    {
      "cell_type": "code",
      "metadata": {
        "id": "_Uj2UxMekkb6",
        "outputId": "74a13b1f-6d1d-466c-b88f-62cc33cb22b3",
        "colab": {
          "base_uri": "https://localhost:8080/"
        }
      },
      "source": [
        "x = np.array(42)\n",
        "print(x.shape)\n",
        "x.ndim"
      ],
      "execution_count": 2,
      "outputs": [
        {
          "output_type": "stream",
          "name": "stdout",
          "text": [
            "()\n"
          ]
        },
        {
          "output_type": "execute_result",
          "data": {
            "text/plain": [
              "0"
            ]
          },
          "metadata": {},
          "execution_count": 2
        }
      ]
    },
    {
      "cell_type": "markdown",
      "metadata": {
        "id": "1qXPBGQMkkb8"
      },
      "source": [
        "## Vector"
      ]
    },
    {
      "cell_type": "code",
      "metadata": {
        "id": "C8mhwNqekkb8",
        "outputId": "c2e100a4-52ff-41a3-ac89-170ff737862b",
        "colab": {
          "base_uri": "https://localhost:8080/"
        }
      },
      "source": [
        "x = np.array([42,23,453,21,32,1,3,7])\n",
        "print(x.shape)\n",
        "x.ndim"
      ],
      "execution_count": 4,
      "outputs": [
        {
          "output_type": "stream",
          "name": "stdout",
          "text": [
            "(8,)\n"
          ]
        },
        {
          "output_type": "execute_result",
          "data": {
            "text/plain": [
              "1"
            ]
          },
          "metadata": {},
          "execution_count": 4
        }
      ]
    },
    {
      "cell_type": "markdown",
      "metadata": {
        "id": "7Odwmfx_kkb9"
      },
      "source": [
        "## Matrix"
      ]
    },
    {
      "cell_type": "code",
      "metadata": {
        "id": "YY0rz2Ltkkb-",
        "outputId": "474931c8-aeff-403f-bccf-e5748f4442ad",
        "colab": {
          "base_uri": "https://localhost:8080/"
        }
      },
      "source": [
        "x = np.array([[42,23,453],\n",
        "             [34,343,24]])\n",
        "print(x.shape)\n",
        "x.ndim"
      ],
      "execution_count": 5,
      "outputs": [
        {
          "output_type": "stream",
          "name": "stdout",
          "text": [
            "(2, 3)\n"
          ]
        },
        {
          "output_type": "execute_result",
          "data": {
            "text/plain": [
              "2"
            ]
          },
          "metadata": {},
          "execution_count": 5
        }
      ]
    },
    {
      "cell_type": "markdown",
      "metadata": {
        "id": "Lxh0sjJRkkb-"
      },
      "source": [
        "## Tensor"
      ]
    },
    {
      "cell_type": "code",
      "metadata": {
        "id": "t6tPSGFfkkb_",
        "outputId": "cea1bf5f-b503-434e-d56a-ada19916ae71",
        "colab": {
          "base_uri": "https://localhost:8080/"
        }
      },
      "source": [
        "x = np.array([[[42,23,453],\n",
        "             [34,343,24]],\n",
        "             [[42,23,453],\n",
        "             [34,343,24]],\n",
        "             [[42,23,453],\n",
        "             [34,343,24]],\n",
        "             [[42,23,453],\n",
        "             [34,343,24]]])\n",
        "print(x.shape)\n",
        "x.ndim"
      ],
      "execution_count": 6,
      "outputs": [
        {
          "output_type": "stream",
          "name": "stdout",
          "text": [
            "(4, 2, 3)\n"
          ]
        },
        {
          "output_type": "execute_result",
          "data": {
            "text/plain": [
              "3"
            ]
          },
          "metadata": {},
          "execution_count": 6
        }
      ]
    },
    {
      "cell_type": "markdown",
      "metadata": {
        "id": "lfzPoAKMkkb_"
      },
      "source": [
        "## Reshape"
      ]
    },
    {
      "cell_type": "code",
      "metadata": {
        "id": "g9e-FBVIkkcA",
        "outputId": "1df963d0-1292-4452-9623-48360e4007c6",
        "colab": {
          "base_uri": "https://localhost:8080/"
        }
      },
      "source": [
        "x = np.array([[0,1],\n",
        "             [2,3],\n",
        "             [4,5],\n",
        "             [6,7]])\n",
        "x.shape"
      ],
      "execution_count": 7,
      "outputs": [
        {
          "output_type": "execute_result",
          "data": {
            "text/plain": [
              "(4, 2)"
            ]
          },
          "metadata": {},
          "execution_count": 7
        }
      ]
    },
    {
      "cell_type": "code",
      "metadata": {
        "id": "OfCjqF4ekkcA",
        "outputId": "0cd7d653-3439-4370-e9fd-4ab536ab2946",
        "colab": {
          "base_uri": "https://localhost:8080/"
        }
      },
      "source": [
        "x.reshape(8,1)"
      ],
      "execution_count": 8,
      "outputs": [
        {
          "output_type": "execute_result",
          "data": {
            "text/plain": [
              "array([[0],\n",
              "       [1],\n",
              "       [2],\n",
              "       [3],\n",
              "       [4],\n",
              "       [5],\n",
              "       [6],\n",
              "       [7]])"
            ]
          },
          "metadata": {},
          "execution_count": 8
        }
      ]
    },
    {
      "cell_type": "code",
      "metadata": {
        "id": "_WYaROFQkkcB",
        "outputId": "81aa801c-2776-4cd2-8975-73e62eb6eada",
        "colab": {
          "base_uri": "https://localhost:8080/"
        }
      },
      "source": [
        "x.reshape(2,4)"
      ],
      "execution_count": 9,
      "outputs": [
        {
          "output_type": "execute_result",
          "data": {
            "text/plain": [
              "array([[0, 1, 2, 3],\n",
              "       [4, 5, 6, 7]])"
            ]
          },
          "metadata": {},
          "execution_count": 9
        }
      ]
    },
    {
      "cell_type": "code",
      "metadata": {
        "id": "ddHhRXt4kkcB",
        "outputId": "0ef354fa-30d9-429a-cbe9-67209d26c00a",
        "colab": {
          "base_uri": "https://localhost:8080/"
        }
      },
      "source": [
        "np.transpose(x)"
      ],
      "execution_count": 10,
      "outputs": [
        {
          "output_type": "execute_result",
          "data": {
            "text/plain": [
              "array([[0, 2, 4, 6],\n",
              "       [1, 3, 5, 7]])"
            ]
          },
          "metadata": {},
          "execution_count": 10
        }
      ]
    },
    {
      "cell_type": "code",
      "metadata": {
        "id": "kZvWrLQKkkcB",
        "outputId": "9e83c839-bf5a-4f2b-826b-baede442470e",
        "colab": {
          "base_uri": "https://localhost:8080/"
        }
      },
      "source": [
        "x.T"
      ],
      "execution_count": 11,
      "outputs": [
        {
          "output_type": "execute_result",
          "data": {
            "text/plain": [
              "array([[0, 2, 4, 6],\n",
              "       [1, 3, 5, 7]])"
            ]
          },
          "metadata": {},
          "execution_count": 11
        }
      ]
    },
    {
      "cell_type": "code",
      "source": [],
      "metadata": {
        "id": "0D0XiNndV70y"
      },
      "execution_count": null,
      "outputs": []
    }
  ]
}